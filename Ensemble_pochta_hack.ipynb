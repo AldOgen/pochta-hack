{
 "cells": [
  {
   "cell_type": "markdown",
   "metadata": {
    "id": "fnE1_J-4dhSR"
   },
   "source": [
    "## Загрузим нужные библиотеки"
   ]
  },
  {
   "cell_type": "code",
   "execution_count": 15,
   "metadata": {
    "id": "uaKzqUxsdjDa"
   },
   "outputs": [],
   "source": [
    "import re\n",
    "import warnings\n",
    "warnings.simplefilter(action='ignore', category=FutureWarning)\n",
    "\n",
    "import lightgbm\n",
    "import numpy as np\n",
    "import pandas as pd\n",
    "import seaborn as sns\n",
    "import matplotlib.pyplot as plt\n",
    "\n",
    "from sklearn.preprocessing import StandardScaler\n",
    "from sklearn.model_selection import train_test_split\n",
    "from sklearn.ensemble import RandomForestClassifier, StackingClassifier\n",
    "from sklearn.linear_model import LogisticRegression\n",
    "from sklearn.neural_network import MLPClassifier\n",
    "from sklearn.metrics import recall_score, roc_auc_score\n",
    "\n",
    "from catboost import CatBoostClassifier\n",
    "from lightgbm import LGBMClassifier\n",
    "\n",
    "%matplotlib inline"
   ]
  },
  {
   "cell_type": "code",
   "execution_count": 2,
   "metadata": {
    "colab": {
     "base_uri": "https://localhost:8080/"
    },
    "id": "2scLoULoXkT0",
    "outputId": "f34d3abd-0c25-4cb1-bc9a-36e9a8739c3a"
   },
   "outputs": [],
   "source": [
    "df = pd.read_csv(\"content/train.csv\", low_memory=False)\n",
    "df_test = pd.read_csv(\"content/test.csv\", low_memory=False)\n",
    "\n",
    "solution = df_test[['id']]"
   ]
  },
  {
   "cell_type": "code",
   "execution_count": 3,
   "metadata": {
    "scrolled": true
   },
   "outputs": [
    {
     "data": {
      "text/html": [
       "<div>\n",
       "<style scoped>\n",
       "    .dataframe tbody tr th:only-of-type {\n",
       "        vertical-align: middle;\n",
       "    }\n",
       "\n",
       "    .dataframe tbody tr th {\n",
       "        vertical-align: top;\n",
       "    }\n",
       "\n",
       "    .dataframe thead th {\n",
       "        text-align: right;\n",
       "    }\n",
       "</style>\n",
       "<table border=\"1\" class=\"dataframe\">\n",
       "  <thead>\n",
       "    <tr style=\"text-align: right;\">\n",
       "      <th></th>\n",
       "      <th>id</th>\n",
       "      <th>oper_type + oper_attr</th>\n",
       "      <th>index_oper</th>\n",
       "      <th>type</th>\n",
       "      <th>priority</th>\n",
       "      <th>is_privatecategory</th>\n",
       "      <th>class</th>\n",
       "      <th>is_in_yandex</th>\n",
       "      <th>is_return</th>\n",
       "      <th>weight</th>\n",
       "      <th>...</th>\n",
       "      <th>dist_qty_oper_login_1</th>\n",
       "      <th>total_qty_oper_login_1</th>\n",
       "      <th>total_qty_oper_login_0</th>\n",
       "      <th>total_qty_over_index_and_type</th>\n",
       "      <th>total_qty_over_index</th>\n",
       "      <th>is_wrong_sndr_name</th>\n",
       "      <th>is_wrong_rcpn_name</th>\n",
       "      <th>is_wrong_phone_number</th>\n",
       "      <th>is_wrong_address</th>\n",
       "      <th>label</th>\n",
       "    </tr>\n",
       "  </thead>\n",
       "  <tbody>\n",
       "    <tr>\n",
       "      <th>0</th>\n",
       "      <td>6818780</td>\n",
       "      <td>1043_-1</td>\n",
       "      <td>628629</td>\n",
       "      <td>Участок</td>\n",
       "      <td>7503.0</td>\n",
       "      <td>N</td>\n",
       "      <td>0.0</td>\n",
       "      <td>Y</td>\n",
       "      <td>N</td>\n",
       "      <td>87.0</td>\n",
       "      <td>...</td>\n",
       "      <td>42.0</td>\n",
       "      <td>720176.0</td>\n",
       "      <td>58950.0</td>\n",
       "      <td>779126.0</td>\n",
       "      <td>8290896.0</td>\n",
       "      <td>0</td>\n",
       "      <td>0</td>\n",
       "      <td>0</td>\n",
       "      <td>0</td>\n",
       "      <td>0</td>\n",
       "    </tr>\n",
       "    <tr>\n",
       "      <th>1</th>\n",
       "      <td>9907176</td>\n",
       "      <td>1023_-1</td>\n",
       "      <td>102976</td>\n",
       "      <td>ММПО</td>\n",
       "      <td>7503.0</td>\n",
       "      <td>N</td>\n",
       "      <td>0.0</td>\n",
       "      <td>N</td>\n",
       "      <td>N</td>\n",
       "      <td>107.0</td>\n",
       "      <td>...</td>\n",
       "      <td>914.0</td>\n",
       "      <td>48856658.0</td>\n",
       "      <td>83318932.0</td>\n",
       "      <td>132175590.0</td>\n",
       "      <td>136819803.0</td>\n",
       "      <td>0</td>\n",
       "      <td>0</td>\n",
       "      <td>0</td>\n",
       "      <td>0</td>\n",
       "      <td>0</td>\n",
       "    </tr>\n",
       "    <tr>\n",
       "      <th>2</th>\n",
       "      <td>3304275</td>\n",
       "      <td>1018_-1</td>\n",
       "      <td>620962</td>\n",
       "      <td>Цех</td>\n",
       "      <td>7503.0</td>\n",
       "      <td>N</td>\n",
       "      <td>0.0</td>\n",
       "      <td>Y</td>\n",
       "      <td>N</td>\n",
       "      <td>50.0</td>\n",
       "      <td>...</td>\n",
       "      <td>62.0</td>\n",
       "      <td>3246292.0</td>\n",
       "      <td>3233068.0</td>\n",
       "      <td>6479360.0</td>\n",
       "      <td>52708071.0</td>\n",
       "      <td>0</td>\n",
       "      <td>1</td>\n",
       "      <td>0</td>\n",
       "      <td>0</td>\n",
       "      <td>0</td>\n",
       "    </tr>\n",
       "    <tr>\n",
       "      <th>3</th>\n",
       "      <td>9020937</td>\n",
       "      <td>1019_-1</td>\n",
       "      <td>344964</td>\n",
       "      <td>Цех</td>\n",
       "      <td>7503.0</td>\n",
       "      <td>N</td>\n",
       "      <td>0.0</td>\n",
       "      <td>Y</td>\n",
       "      <td>N</td>\n",
       "      <td>416.0</td>\n",
       "      <td>...</td>\n",
       "      <td>55.0</td>\n",
       "      <td>2060928.0</td>\n",
       "      <td>653280.0</td>\n",
       "      <td>2714208.0</td>\n",
       "      <td>19562334.0</td>\n",
       "      <td>0</td>\n",
       "      <td>0</td>\n",
       "      <td>0</td>\n",
       "      <td>0</td>\n",
       "      <td>0</td>\n",
       "    </tr>\n",
       "    <tr>\n",
       "      <th>4</th>\n",
       "      <td>3082311</td>\n",
       "      <td>1020_-1</td>\n",
       "      <td>629819</td>\n",
       "      <td>Участок</td>\n",
       "      <td>7503.0</td>\n",
       "      <td>N</td>\n",
       "      <td>0.0</td>\n",
       "      <td>Y</td>\n",
       "      <td>N</td>\n",
       "      <td>795.0</td>\n",
       "      <td>...</td>\n",
       "      <td>16.0</td>\n",
       "      <td>316919.0</td>\n",
       "      <td>27911.0</td>\n",
       "      <td>344830.0</td>\n",
       "      <td>4719186.0</td>\n",
       "      <td>0</td>\n",
       "      <td>0</td>\n",
       "      <td>0</td>\n",
       "      <td>0</td>\n",
       "      <td>0</td>\n",
       "    </tr>\n",
       "  </tbody>\n",
       "</table>\n",
       "<p>5 rows × 29 columns</p>\n",
       "</div>"
      ],
      "text/plain": [
       "        id oper_type + oper_attr index_oper     type  priority  \\\n",
       "0  6818780               1043_-1     628629  Участок    7503.0   \n",
       "1  9907176               1023_-1     102976     ММПО    7503.0   \n",
       "2  3304275               1018_-1     620962      Цех    7503.0   \n",
       "3  9020937               1019_-1     344964      Цех    7503.0   \n",
       "4  3082311               1020_-1     629819  Участок    7503.0   \n",
       "\n",
       "  is_privatecategory  class is_in_yandex is_return  weight  ...  \\\n",
       "0                  N    0.0            Y         N    87.0  ...   \n",
       "1                  N    0.0            N         N   107.0  ...   \n",
       "2                  N    0.0            Y         N    50.0  ...   \n",
       "3                  N    0.0            Y         N   416.0  ...   \n",
       "4                  N    0.0            Y         N   795.0  ...   \n",
       "\n",
       "   dist_qty_oper_login_1  total_qty_oper_login_1  total_qty_oper_login_0  \\\n",
       "0                   42.0                720176.0                 58950.0   \n",
       "1                  914.0              48856658.0              83318932.0   \n",
       "2                   62.0               3246292.0               3233068.0   \n",
       "3                   55.0               2060928.0                653280.0   \n",
       "4                   16.0                316919.0                 27911.0   \n",
       "\n",
       "   total_qty_over_index_and_type  total_qty_over_index  is_wrong_sndr_name  \\\n",
       "0                       779126.0             8290896.0                   0   \n",
       "1                    132175590.0           136819803.0                   0   \n",
       "2                      6479360.0            52708071.0                   0   \n",
       "3                      2714208.0            19562334.0                   0   \n",
       "4                       344830.0             4719186.0                   0   \n",
       "\n",
       "  is_wrong_rcpn_name  is_wrong_phone_number  is_wrong_address  label  \n",
       "0                  0                      0                 0      0  \n",
       "1                  0                      0                 0      0  \n",
       "2                  1                      0                 0      0  \n",
       "3                  0                      0                 0      0  \n",
       "4                  0                      0                 0      0  \n",
       "\n",
       "[5 rows x 29 columns]"
      ]
     },
     "execution_count": 3,
     "metadata": {},
     "output_type": "execute_result"
    }
   ],
   "source": [
    "df.head()"
   ]
  },
  {
   "cell_type": "code",
   "execution_count": 22,
   "metadata": {},
   "outputs": [],
   "source": [
    "df['count_mfi'] = df['name_mfi'].apply(lambda name_mfi: name_mfi.count(',') + 1)\n",
    "df_test['count_mfi'] = df_test['name_mfi'].apply(lambda name_mfi: name_mfi.count(',') + 1)"
   ]
  },
  {
   "cell_type": "code",
   "execution_count": 23,
   "metadata": {},
   "outputs": [],
   "source": [
    "def has_digits(text):\n",
    "    return bool(re.search('[0-9]', text))\n",
    "\n",
    "df['name_has_digits'] = df['name_mfi'].apply(has_digits)\n",
    "df_test['name_has_digits'] = df_test['name_mfi'].apply(has_digits)"
   ]
  },
  {
   "cell_type": "code",
   "execution_count": 25,
   "metadata": {
    "id": "vdTdoZs293hM"
   },
   "outputs": [],
   "source": [
    "def process_df(df):\n",
    "    df = df.copy()\n",
    "    drop_cols = [\n",
    "        'id', 'oper_type + oper_attr', 'name_mfi',\n",
    "    ]\n",
    "    \n",
    "    not_int_cols = []\n",
    "    \n",
    "    df[\"is_in_yandex\"] = pd.Categorical(df[\"is_in_yandex\"])\n",
    "    df[\"is_in_yandex\"].astype('category').cat.codes\n",
    "    df[\"is_in_yandex\"] = df[\"is_in_yandex\"].cat.codes\n",
    "\n",
    "    df[\"is_return\"] = pd.Categorical(df[\"is_return\"])\n",
    "    df[\"is_return\"].astype('category').cat.codes\n",
    "    df[\"is_return\"] = df[\"is_return\"].cat.codes\n",
    "\n",
    "    df[\"type\"] = pd.Categorical(df[\"type\"])\n",
    "    df[\"type\"].astype('category').cat.codes\n",
    "    df[\"type\"] = df[\"type\"].cat.codes\n",
    "\n",
    "    df[\"is_privatecategory\"] = pd.Categorical(df[\"is_privatecategory\"])\n",
    "    df[\"is_privatecategory\"].astype('category').cat.codes\n",
    "    df[\"is_privatecategory\"] = df[\"is_privatecategory\"].cat.codes\n",
    "\n",
    "    df['index_oper'] = df['index_oper'].apply(\n",
    "        lambda index: int(float(index)) if len(index) > 1 else 0\n",
    "    )\n",
    "    \n",
    "    df = df.drop(drop_cols, axis=1)\n",
    "    \n",
    "    for col in df.columns.drop(not_int_cols):\n",
    "        df[col] = df[col].astype(int)\n",
    "    \n",
    "    return df"
   ]
  },
  {
   "cell_type": "code",
   "execution_count": 26,
   "metadata": {},
   "outputs": [],
   "source": [
    "df = process_df(df)\n",
    "df_test = process_df(df_test)"
   ]
  },
  {
   "cell_type": "code",
   "execution_count": 28,
   "metadata": {},
   "outputs": [],
   "source": [
    "def add_features(df, df_test):\n",
    "    df['is_train'] = True\n",
    "    df_test['is_train'] = False\n",
    "    df_union = pd.concat([df, df_test])\n",
    "    \n",
    "    by_columns = list(df_union.columns.drop(['is_train', 'label']))\n",
    "    df_union['count_duplicates'] = df_union.groupby(by_columns)['class'].transform('count')\n",
    "\n",
    "    df = df_union[df_union['is_train'] == True]\n",
    "    df_test = df_union[df_union['is_train'] == False]\n",
    "    \n",
    "    df = df.drop('is_train', axis=1)\n",
    "    df_test = df_test.drop(['is_train', 'label'], axis=1)\n",
    "    \n",
    "    return df, df_test"
   ]
  },
  {
   "cell_type": "code",
   "execution_count": 29,
   "metadata": {},
   "outputs": [],
   "source": [
    "df, df_test = add_features(df, df_test)"
   ]
  },
  {
   "cell_type": "markdown",
   "metadata": {
    "id": "WIFh_dnOhj1V"
   },
   "source": [
    "## Выделим выборки"
   ]
  },
  {
   "cell_type": "code",
   "execution_count": 30,
   "metadata": {
    "id": "mkCL9b-8hmZ1"
   },
   "outputs": [],
   "source": [
    "X = df.drop([\"label\"], axis=1)\n",
    "y = df[\"label\"].values"
   ]
  },
  {
   "cell_type": "code",
   "execution_count": 31,
   "metadata": {
    "id": "NfIOX9Lbik_i"
   },
   "outputs": [],
   "source": [
    "X_train, X_test, y_train, y_test = train_test_split(X, y, test_size=0.1, random_state=42)"
   ]
  },
  {
   "cell_type": "markdown",
   "metadata": {
    "id": "60NotS9ehbO5"
   },
   "source": [
    "## Обучение модели"
   ]
  },
  {
   "cell_type": "markdown",
   "metadata": {},
   "source": [
    "### RandomForest"
   ]
  },
  {
   "cell_type": "code",
   "execution_count": 34,
   "metadata": {
    "scrolled": true
   },
   "outputs": [
    {
     "name": "stderr",
     "output_type": "stream",
     "text": [
      "[Parallel(n_jobs=4)]: Using backend ThreadingBackend with 4 concurrent workers.\n"
     ]
    },
    {
     "name": "stdout",
     "output_type": "stream",
     "text": [
      "building tree 1 of 100\n",
      "building tree 2 of 100\n",
      "building tree 3 of 100\n",
      "building tree 4 of 100\n",
      "building tree 5 of 100\n",
      "building tree 6 of 100\n",
      "building tree 7 of 100\n",
      "building tree 8 of 100\n",
      "building tree 9 of 100\n",
      "building tree 10 of 100\n",
      "building tree 11 of 100\n",
      "building tree 12 of 100\n",
      "building tree 13 of 100\n",
      "building tree 14 of 100\n",
      "building tree 15 of 100\n",
      "building tree 16 of 100\n",
      "building tree 17 of 100\n",
      "building tree 18 of 100\n",
      "building tree 19 of 100\n",
      "building tree 20 of 100\n",
      "building tree 21 of 100\n",
      "building tree 22 of 100\n",
      "building tree 23 of 100\n",
      "building tree 24 of 100\n",
      "building tree 25 of 100\n",
      "building tree 26 of 100\n",
      "building tree 27 of 100\n",
      "building tree 28 of 100\n",
      "building tree 29 of 100\n",
      "building tree 30 of 100\n",
      "building tree 31 of 100\n",
      "building tree 32 of 100\n",
      "building tree 33 of 100\n",
      "building tree 34 of 100\n",
      "building tree 35 of 100\n",
      "building tree 36 of 100\n",
      "building tree 37 of 100\n"
     ]
    },
    {
     "name": "stderr",
     "output_type": "stream",
     "text": [
      "[Parallel(n_jobs=4)]: Done  33 tasks      | elapsed:  8.2min\n"
     ]
    },
    {
     "name": "stdout",
     "output_type": "stream",
     "text": [
      "building tree 38 of 100\n",
      "building tree 39 of 100\n",
      "building tree 40 of 100\n",
      "building tree 41 of 100\n",
      "building tree 42 of 100\n",
      "building tree 43 of 100\n",
      "building tree 44 of 100\n",
      "building tree 45 of 100\n",
      "building tree 46 of 100\n",
      "building tree 47 of 100\n",
      "building tree 48 of 100\n",
      "building tree 49 of 100\n",
      "building tree 50 of 100\n",
      "building tree 51 of 100\n",
      "building tree 52 of 100\n",
      "building tree 53 of 100\n",
      "building tree 54 of 100\n",
      "building tree 55 of 100\n",
      "building tree 56 of 100\n",
      "building tree 57 of 100\n",
      "building tree 58 of 100\n",
      "building tree 59 of 100\n",
      "building tree 60 of 100\n",
      "building tree 61 of 100\n",
      "building tree 62 of 100\n",
      "building tree 63 of 100\n",
      "building tree 64 of 100\n",
      "building tree 65 of 100\n",
      "building tree 66 of 100\n",
      "building tree 67 of 100\n",
      "building tree 68 of 100\n",
      "building tree 69 of 100\n",
      "building tree 70 of 100\n",
      "building tree 71 of 100\n",
      "building tree 72 of 100\n",
      "building tree 73 of 100\n",
      "building tree 74 of 100\n",
      "building tree 75 of 100building tree 76 of 100\n",
      "\n",
      "building tree 77 of 100\n",
      "building tree 78 of 100\n",
      "building tree 79 of 100\n",
      "building tree 80 of 100\n",
      "building tree 81 of 100\n",
      "building tree 82 of 100\n",
      "building tree 83 of 100\n",
      "building tree 84 of 100\n",
      "building tree 85 of 100\n",
      "building tree 86 of 100\n",
      "building tree 87 of 100\n",
      "building tree 88 of 100\n",
      "building tree 89 of 100\n",
      "building tree 90 of 100\n",
      "building tree 91 of 100\n",
      "building tree 92 of 100\n",
      "building tree 93 of 100\n",
      "building tree 94 of 100\n",
      "building tree 95 of 100\n",
      "building tree 96 of 100\n",
      "building tree 97 of 100\n",
      "building tree 98 of 100\n",
      "building tree 99 of 100\n",
      "building tree 100 of 100\n"
     ]
    },
    {
     "name": "stderr",
     "output_type": "stream",
     "text": [
      "[Parallel(n_jobs=4)]: Done 100 out of 100 | elapsed: 23.3min finished\n"
     ]
    },
    {
     "data": {
      "text/html": [
       "<style>#sk-container-id-2 {color: black;background-color: white;}#sk-container-id-2 pre{padding: 0;}#sk-container-id-2 div.sk-toggleable {background-color: white;}#sk-container-id-2 label.sk-toggleable__label {cursor: pointer;display: block;width: 100%;margin-bottom: 0;padding: 0.3em;box-sizing: border-box;text-align: center;}#sk-container-id-2 label.sk-toggleable__label-arrow:before {content: \"▸\";float: left;margin-right: 0.25em;color: #696969;}#sk-container-id-2 label.sk-toggleable__label-arrow:hover:before {color: black;}#sk-container-id-2 div.sk-estimator:hover label.sk-toggleable__label-arrow:before {color: black;}#sk-container-id-2 div.sk-toggleable__content {max-height: 0;max-width: 0;overflow: hidden;text-align: left;background-color: #f0f8ff;}#sk-container-id-2 div.sk-toggleable__content pre {margin: 0.2em;color: black;border-radius: 0.25em;background-color: #f0f8ff;}#sk-container-id-2 input.sk-toggleable__control:checked~div.sk-toggleable__content {max-height: 200px;max-width: 100%;overflow: auto;}#sk-container-id-2 input.sk-toggleable__control:checked~label.sk-toggleable__label-arrow:before {content: \"▾\";}#sk-container-id-2 div.sk-estimator input.sk-toggleable__control:checked~label.sk-toggleable__label {background-color: #d4ebff;}#sk-container-id-2 div.sk-label input.sk-toggleable__control:checked~label.sk-toggleable__label {background-color: #d4ebff;}#sk-container-id-2 input.sk-hidden--visually {border: 0;clip: rect(1px 1px 1px 1px);clip: rect(1px, 1px, 1px, 1px);height: 1px;margin: -1px;overflow: hidden;padding: 0;position: absolute;width: 1px;}#sk-container-id-2 div.sk-estimator {font-family: monospace;background-color: #f0f8ff;border: 1px dotted black;border-radius: 0.25em;box-sizing: border-box;margin-bottom: 0.5em;}#sk-container-id-2 div.sk-estimator:hover {background-color: #d4ebff;}#sk-container-id-2 div.sk-parallel-item::after {content: \"\";width: 100%;border-bottom: 1px solid gray;flex-grow: 1;}#sk-container-id-2 div.sk-label:hover label.sk-toggleable__label {background-color: #d4ebff;}#sk-container-id-2 div.sk-serial::before {content: \"\";position: absolute;border-left: 1px solid gray;box-sizing: border-box;top: 0;bottom: 0;left: 50%;z-index: 0;}#sk-container-id-2 div.sk-serial {display: flex;flex-direction: column;align-items: center;background-color: white;padding-right: 0.2em;padding-left: 0.2em;position: relative;}#sk-container-id-2 div.sk-item {position: relative;z-index: 1;}#sk-container-id-2 div.sk-parallel {display: flex;align-items: stretch;justify-content: center;background-color: white;position: relative;}#sk-container-id-2 div.sk-item::before, #sk-container-id-2 div.sk-parallel-item::before {content: \"\";position: absolute;border-left: 1px solid gray;box-sizing: border-box;top: 0;bottom: 0;left: 50%;z-index: -1;}#sk-container-id-2 div.sk-parallel-item {display: flex;flex-direction: column;z-index: 1;position: relative;background-color: white;}#sk-container-id-2 div.sk-parallel-item:first-child::after {align-self: flex-end;width: 50%;}#sk-container-id-2 div.sk-parallel-item:last-child::after {align-self: flex-start;width: 50%;}#sk-container-id-2 div.sk-parallel-item:only-child::after {width: 0;}#sk-container-id-2 div.sk-dashed-wrapped {border: 1px dashed gray;margin: 0 0.4em 0.5em 0.4em;box-sizing: border-box;padding-bottom: 0.4em;background-color: white;}#sk-container-id-2 div.sk-label label {font-family: monospace;font-weight: bold;display: inline-block;line-height: 1.2em;}#sk-container-id-2 div.sk-label-container {text-align: center;}#sk-container-id-2 div.sk-container {/* jupyter's `normalize.less` sets `[hidden] { display: none; }` but bootstrap.min.css set `[hidden] { display: none !important; }` so we also need the `!important` here to be able to override the default hidden behavior on the sphinx rendered scikit-learn.org. See: https://github.com/scikit-learn/scikit-learn/issues/21755 */display: inline-block !important;position: relative;}#sk-container-id-2 div.sk-text-repr-fallback {display: none;}</style><div id=\"sk-container-id-2\" class=\"sk-top-container\"><div class=\"sk-text-repr-fallback\"><pre>RandomForestClassifier(class_weight=&#x27;balanced&#x27;, max_depth=12, max_features=0.5,\n",
       "                       n_jobs=4, verbose=2)</pre><b>In a Jupyter environment, please rerun this cell to show the HTML representation or trust the notebook. <br />On GitHub, the HTML representation is unable to render, please try loading this page with nbviewer.org.</b></div><div class=\"sk-container\" hidden><div class=\"sk-item\"><div class=\"sk-estimator sk-toggleable\"><input class=\"sk-toggleable__control sk-hidden--visually\" id=\"sk-estimator-id-2\" type=\"checkbox\" checked><label for=\"sk-estimator-id-2\" class=\"sk-toggleable__label sk-toggleable__label-arrow\">RandomForestClassifier</label><div class=\"sk-toggleable__content\"><pre>RandomForestClassifier(class_weight=&#x27;balanced&#x27;, max_depth=12, max_features=0.5,\n",
       "                       n_jobs=4, verbose=2)</pre></div></div></div></div></div>"
      ],
      "text/plain": [
       "RandomForestClassifier(class_weight='balanced', max_depth=12, max_features=0.5,\n",
       "                       n_jobs=4, verbose=2)"
      ]
     },
     "execution_count": 34,
     "metadata": {},
     "output_type": "execute_result"
    }
   ],
   "source": [
    "RandomForest = RandomForestClassifier(\n",
    "    n_estimators=100,\n",
    "    max_depth=12,\n",
    "    max_features=0.5,\n",
    "    class_weight='balanced',\n",
    "    verbose=2,\n",
    "    n_jobs=4\n",
    ")\n",
    "\n",
    "RandomForest.fit(X_train, y_train)"
   ]
  },
  {
   "cell_type": "code",
   "execution_count": 38,
   "metadata": {
    "scrolled": true
   },
   "outputs": [
    {
     "name": "stderr",
     "output_type": "stream",
     "text": [
      "[Parallel(n_jobs=4)]: Using backend ThreadingBackend with 4 concurrent workers.\n",
      "[Parallel(n_jobs=4)]: Done  33 tasks      | elapsed:    0.8s\n",
      "[Parallel(n_jobs=4)]: Done 100 out of 100 | elapsed:    2.2s finished\n"
     ]
    },
    {
     "name": "stdout",
     "output_type": "stream",
     "text": [
      "Score 0.9189754665909402\n"
     ]
    }
   ],
   "source": [
    "pred = RandomForest.predict(X_test)\n",
    "\n",
    "print(\"Score\", recall_score(y_test, pred, average=\"macro\"))"
   ]
  },
  {
   "cell_type": "markdown",
   "metadata": {},
   "source": [
    "### CatBoost"
   ]
  },
  {
   "cell_type": "code",
   "execution_count": 39,
   "metadata": {},
   "outputs": [],
   "source": [
    "cat_features = [\n",
    "    'type',\n",
    "    'priority',\n",
    "    'class',\n",
    "    'mailtype',\n",
    "    'mailctg',\n",
    "    'directctg',\n",
    "    'is_in_yandex',\n",
    "    'is_return',\n",
    "    'is_privatecategory'\n",
    "]"
   ]
  },
  {
   "cell_type": "code",
   "execution_count": 36,
   "metadata": {
    "scrolled": true
   },
   "outputs": [
    {
     "name": "stdout",
     "output_type": "stream",
     "text": [
      "Learning rate set to 0.5\n",
      "0:\tlearn: 0.3274527\ttotal: 3.65s\tremaining: 10m 17s\n",
      "1:\tlearn: 0.2785860\ttotal: 6.41s\tremaining: 8m 58s\n",
      "2:\tlearn: 0.2604393\ttotal: 9.84s\tremaining: 9m 7s\n",
      "3:\tlearn: 0.2487415\ttotal: 12.8s\tremaining: 8m 52s\n",
      "4:\tlearn: 0.2381397\ttotal: 16.5s\tremaining: 9m 3s\n",
      "5:\tlearn: 0.2274544\ttotal: 19.4s\tremaining: 8m 49s\n",
      "6:\tlearn: 0.2231854\ttotal: 22s\tremaining: 8m 31s\n",
      "7:\tlearn: 0.2189673\ttotal: 24.8s\tremaining: 8m 22s\n",
      "8:\tlearn: 0.2175243\ttotal: 27.5s\tremaining: 8m 11s\n",
      "9:\tlearn: 0.2158668\ttotal: 30.1s\tremaining: 8m 2s\n",
      "10:\tlearn: 0.2136875\ttotal: 32.6s\tremaining: 7m 50s\n",
      "11:\tlearn: 0.2121437\ttotal: 35.2s\tremaining: 7m 42s\n",
      "12:\tlearn: 0.2113602\ttotal: 37.7s\tremaining: 7m 35s\n",
      "13:\tlearn: 0.2102096\ttotal: 40s\tremaining: 7m 25s\n",
      "14:\tlearn: 0.2090006\ttotal: 42.4s\tremaining: 7m 18s\n",
      "15:\tlearn: 0.2079429\ttotal: 45s\tremaining: 7m 13s\n",
      "16:\tlearn: 0.2071713\ttotal: 48s\tremaining: 7m 11s\n",
      "17:\tlearn: 0.2063489\ttotal: 50.6s\tremaining: 7m 7s\n",
      "18:\tlearn: 0.2053918\ttotal: 53.6s\tremaining: 7m 5s\n",
      "19:\tlearn: 0.2052161\ttotal: 56.4s\tremaining: 7m 2s\n",
      "20:\tlearn: 0.2047900\ttotal: 59s\tremaining: 6m 58s\n",
      "21:\tlearn: 0.2041791\ttotal: 1m 1s\tremaining: 6m 54s\n",
      "22:\tlearn: 0.2032686\ttotal: 1m 4s\tremaining: 6m 49s\n",
      "23:\tlearn: 0.2028517\ttotal: 1m 6s\tremaining: 6m 44s\n",
      "24:\tlearn: 0.2027294\ttotal: 1m 8s\tremaining: 6m 39s\n",
      "25:\tlearn: 0.2025909\ttotal: 1m 11s\tremaining: 6m 35s\n",
      "26:\tlearn: 0.2021675\ttotal: 1m 14s\tremaining: 6m 33s\n",
      "27:\tlearn: 0.2017022\ttotal: 1m 16s\tremaining: 6m 30s\n",
      "28:\tlearn: 0.2010606\ttotal: 1m 19s\tremaining: 6m 28s\n",
      "29:\tlearn: 0.2006400\ttotal: 1m 22s\tremaining: 6m 26s\n",
      "30:\tlearn: 0.2001239\ttotal: 1m 25s\tremaining: 6m 25s\n",
      "31:\tlearn: 0.1998993\ttotal: 1m 28s\tremaining: 6m 23s\n",
      "32:\tlearn: 0.1994854\ttotal: 1m 32s\tremaining: 6m 22s\n",
      "33:\tlearn: 0.1991683\ttotal: 1m 35s\tremaining: 6m 21s\n",
      "34:\tlearn: 0.1988127\ttotal: 1m 38s\tremaining: 6m 21s\n",
      "35:\tlearn: 0.1983632\ttotal: 1m 42s\tremaining: 6m 19s\n",
      "36:\tlearn: 0.1980646\ttotal: 1m 45s\tremaining: 6m 18s\n",
      "37:\tlearn: 0.1978985\ttotal: 1m 48s\tremaining: 6m 15s\n",
      "38:\tlearn: 0.1975872\ttotal: 1m 50s\tremaining: 6m 12s\n",
      "39:\tlearn: 0.1972128\ttotal: 1m 53s\tremaining: 6m 8s\n",
      "40:\tlearn: 0.1970296\ttotal: 1m 56s\tremaining: 6m 6s\n",
      "41:\tlearn: 0.1968868\ttotal: 1m 59s\tremaining: 6m 4s\n",
      "42:\tlearn: 0.1967408\ttotal: 2m 2s\tremaining: 6m 2s\n",
      "43:\tlearn: 0.1966491\ttotal: 2m 5s\tremaining: 6m\n",
      "44:\tlearn: 0.1965343\ttotal: 2m 8s\tremaining: 5m 57s\n",
      "45:\tlearn: 0.1964115\ttotal: 2m 11s\tremaining: 5m 55s\n",
      "46:\tlearn: 0.1960472\ttotal: 2m 14s\tremaining: 5m 51s\n",
      "47:\tlearn: 0.1958249\ttotal: 2m 17s\tremaining: 5m 48s\n",
      "48:\tlearn: 0.1955616\ttotal: 2m 20s\tremaining: 5m 46s\n",
      "49:\tlearn: 0.1954150\ttotal: 2m 23s\tremaining: 5m 43s\n",
      "50:\tlearn: 0.1953388\ttotal: 2m 25s\tremaining: 5m 40s\n",
      "51:\tlearn: 0.1952368\ttotal: 2m 29s\tremaining: 5m 38s\n",
      "52:\tlearn: 0.1950209\ttotal: 2m 32s\tremaining: 5m 37s\n",
      "53:\tlearn: 0.1948972\ttotal: 2m 36s\tremaining: 5m 36s\n",
      "54:\tlearn: 0.1948558\ttotal: 2m 39s\tremaining: 5m 33s\n",
      "55:\tlearn: 0.1946787\ttotal: 2m 42s\tremaining: 5m 30s\n",
      "56:\tlearn: 0.1945882\ttotal: 2m 45s\tremaining: 5m 28s\n",
      "57:\tlearn: 0.1942603\ttotal: 2m 48s\tremaining: 5m 25s\n",
      "58:\tlearn: 0.1941990\ttotal: 2m 52s\tremaining: 5m 23s\n",
      "59:\tlearn: 0.1941594\ttotal: 2m 55s\tremaining: 5m 21s\n",
      "60:\tlearn: 0.1940877\ttotal: 2m 58s\tremaining: 5m 19s\n",
      "61:\tlearn: 0.1939237\ttotal: 3m 1s\tremaining: 5m 16s\n",
      "62:\tlearn: 0.1936951\ttotal: 3m 4s\tremaining: 5m 13s\n",
      "63:\tlearn: 0.1936455\ttotal: 3m 7s\tremaining: 5m 10s\n",
      "64:\tlearn: 0.1934994\ttotal: 3m 10s\tremaining: 5m 8s\n",
      "65:\tlearn: 0.1933470\ttotal: 3m 13s\tremaining: 5m 4s\n",
      "66:\tlearn: 0.1932309\ttotal: 3m 16s\tremaining: 5m 2s\n",
      "67:\tlearn: 0.1931667\ttotal: 3m 19s\tremaining: 4m 59s\n",
      "68:\tlearn: 0.1930379\ttotal: 3m 22s\tremaining: 4m 56s\n",
      "69:\tlearn: 0.1929497\ttotal: 3m 26s\tremaining: 4m 54s\n",
      "70:\tlearn: 0.1928758\ttotal: 3m 29s\tremaining: 4m 51s\n",
      "71:\tlearn: 0.1927767\ttotal: 3m 32s\tremaining: 4m 49s\n",
      "72:\tlearn: 0.1925000\ttotal: 3m 35s\tremaining: 4m 46s\n",
      "73:\tlearn: 0.1924016\ttotal: 3m 38s\tremaining: 4m 43s\n",
      "74:\tlearn: 0.1922748\ttotal: 3m 40s\tremaining: 4m 39s\n",
      "75:\tlearn: 0.1922184\ttotal: 3m 43s\tremaining: 4m 36s\n",
      "76:\tlearn: 0.1921163\ttotal: 3m 46s\tremaining: 4m 33s\n",
      "77:\tlearn: 0.1919908\ttotal: 3m 49s\tremaining: 4m 30s\n",
      "78:\tlearn: 0.1919349\ttotal: 3m 51s\tremaining: 4m 26s\n",
      "79:\tlearn: 0.1918006\ttotal: 3m 54s\tremaining: 4m 23s\n",
      "80:\tlearn: 0.1916378\ttotal: 3m 57s\tremaining: 4m 20s\n",
      "81:\tlearn: 0.1915821\ttotal: 3m 59s\tremaining: 4m 17s\n",
      "82:\tlearn: 0.1915140\ttotal: 4m 2s\tremaining: 4m 14s\n",
      "83:\tlearn: 0.1914256\ttotal: 4m 5s\tremaining: 4m 11s\n",
      "84:\tlearn: 0.1913801\ttotal: 4m 8s\tremaining: 4m 8s\n",
      "85:\tlearn: 0.1913549\ttotal: 4m 10s\tremaining: 4m 5s\n",
      "86:\tlearn: 0.1912961\ttotal: 4m 13s\tremaining: 4m 1s\n",
      "87:\tlearn: 0.1911977\ttotal: 4m 16s\tremaining: 3m 58s\n",
      "88:\tlearn: 0.1911110\ttotal: 4m 19s\tremaining: 3m 55s\n",
      "89:\tlearn: 0.1910661\ttotal: 4m 21s\tremaining: 3m 52s\n",
      "90:\tlearn: 0.1909547\ttotal: 4m 24s\tremaining: 3m 49s\n",
      "91:\tlearn: 0.1908589\ttotal: 4m 26s\tremaining: 3m 46s\n",
      "92:\tlearn: 0.1908094\ttotal: 4m 29s\tremaining: 3m 43s\n",
      "93:\tlearn: 0.1907347\ttotal: 4m 32s\tremaining: 3m 40s\n",
      "94:\tlearn: 0.1907149\ttotal: 4m 35s\tremaining: 3m 37s\n",
      "95:\tlearn: 0.1906334\ttotal: 4m 38s\tremaining: 3m 34s\n",
      "96:\tlearn: 0.1905795\ttotal: 4m 41s\tremaining: 3m 31s\n",
      "97:\tlearn: 0.1905371\ttotal: 4m 43s\tremaining: 3m 28s\n",
      "98:\tlearn: 0.1905116\ttotal: 4m 46s\tremaining: 3m 25s\n",
      "99:\tlearn: 0.1904548\ttotal: 4m 49s\tremaining: 3m 22s\n",
      "100:\tlearn: 0.1903675\ttotal: 4m 52s\tremaining: 3m 19s\n",
      "101:\tlearn: 0.1902837\ttotal: 4m 55s\tremaining: 3m 16s\n",
      "102:\tlearn: 0.1902498\ttotal: 4m 57s\tremaining: 3m 13s\n",
      "103:\tlearn: 0.1902031\ttotal: 5m\tremaining: 3m 10s\n",
      "104:\tlearn: 0.1901422\ttotal: 5m 2s\tremaining: 3m 7s\n",
      "105:\tlearn: 0.1900723\ttotal: 5m 5s\tremaining: 3m 4s\n",
      "106:\tlearn: 0.1900327\ttotal: 5m 7s\tremaining: 3m 1s\n",
      "107:\tlearn: 0.1899306\ttotal: 5m 10s\tremaining: 2m 58s\n",
      "108:\tlearn: 0.1898552\ttotal: 5m 13s\tremaining: 2m 55s\n",
      "109:\tlearn: 0.1897986\ttotal: 5m 15s\tremaining: 2m 52s\n",
      "110:\tlearn: 0.1897772\ttotal: 5m 18s\tremaining: 2m 49s\n",
      "111:\tlearn: 0.1897267\ttotal: 5m 21s\tremaining: 2m 46s\n",
      "112:\tlearn: 0.1896701\ttotal: 5m 23s\tremaining: 2m 43s\n",
      "113:\tlearn: 0.1896190\ttotal: 5m 26s\tremaining: 2m 40s\n",
      "114:\tlearn: 0.1895589\ttotal: 5m 29s\tremaining: 2m 37s\n",
      "115:\tlearn: 0.1894869\ttotal: 5m 31s\tremaining: 2m 34s\n",
      "116:\tlearn: 0.1893742\ttotal: 5m 34s\tremaining: 2m 31s\n",
      "117:\tlearn: 0.1893553\ttotal: 5m 37s\tremaining: 2m 28s\n",
      "118:\tlearn: 0.1893165\ttotal: 5m 39s\tremaining: 2m 25s\n",
      "119:\tlearn: 0.1892802\ttotal: 5m 42s\tremaining: 2m 22s\n",
      "120:\tlearn: 0.1891937\ttotal: 5m 44s\tremaining: 2m 19s\n",
      "121:\tlearn: 0.1891391\ttotal: 5m 47s\tremaining: 2m 16s\n",
      "122:\tlearn: 0.1890558\ttotal: 5m 50s\tremaining: 2m 13s\n",
      "123:\tlearn: 0.1889954\ttotal: 5m 53s\tremaining: 2m 10s\n",
      "124:\tlearn: 0.1889211\ttotal: 5m 55s\tremaining: 2m 8s\n",
      "125:\tlearn: 0.1888458\ttotal: 5m 58s\tremaining: 2m 5s\n",
      "126:\tlearn: 0.1887520\ttotal: 6m 1s\tremaining: 2m 2s\n",
      "127:\tlearn: 0.1886809\ttotal: 6m 3s\tremaining: 1m 59s\n",
      "128:\tlearn: 0.1884882\ttotal: 6m 6s\tremaining: 1m 56s\n",
      "129:\tlearn: 0.1884384\ttotal: 6m 9s\tremaining: 1m 53s\n",
      "130:\tlearn: 0.1883878\ttotal: 6m 12s\tremaining: 1m 50s\n",
      "131:\tlearn: 0.1882974\ttotal: 6m 15s\tremaining: 1m 47s\n",
      "132:\tlearn: 0.1882080\ttotal: 6m 17s\tremaining: 1m 45s\n",
      "133:\tlearn: 0.1881871\ttotal: 6m 20s\tremaining: 1m 42s\n",
      "134:\tlearn: 0.1881641\ttotal: 6m 23s\tremaining: 1m 39s\n",
      "135:\tlearn: 0.1880912\ttotal: 6m 26s\tremaining: 1m 36s\n",
      "136:\tlearn: 0.1880568\ttotal: 6m 29s\tremaining: 1m 33s\n",
      "137:\tlearn: 0.1880140\ttotal: 6m 31s\tremaining: 1m 30s\n",
      "138:\tlearn: 0.1879496\ttotal: 6m 33s\tremaining: 1m 27s\n",
      "139:\tlearn: 0.1879161\ttotal: 6m 36s\tremaining: 1m 24s\n",
      "140:\tlearn: 0.1878710\ttotal: 6m 38s\tremaining: 1m 22s\n",
      "141:\tlearn: 0.1878209\ttotal: 6m 41s\tremaining: 1m 19s\n",
      "142:\tlearn: 0.1876775\ttotal: 6m 44s\tremaining: 1m 16s\n",
      "143:\tlearn: 0.1876491\ttotal: 6m 46s\tremaining: 1m 13s\n",
      "144:\tlearn: 0.1876173\ttotal: 6m 49s\tremaining: 1m 10s\n",
      "145:\tlearn: 0.1875967\ttotal: 6m 51s\tremaining: 1m 7s\n",
      "146:\tlearn: 0.1874807\ttotal: 6m 55s\tremaining: 1m 4s\n",
      "147:\tlearn: 0.1874355\ttotal: 6m 57s\tremaining: 1m 2s\n",
      "148:\tlearn: 0.1873989\ttotal: 7m\tremaining: 59.2s\n",
      "149:\tlearn: 0.1873610\ttotal: 7m 3s\tremaining: 56.4s\n",
      "150:\tlearn: 0.1873165\ttotal: 7m 5s\tremaining: 53.6s\n",
      "151:\tlearn: 0.1872859\ttotal: 7m 8s\tremaining: 50.8s\n",
      "152:\tlearn: 0.1872515\ttotal: 7m 11s\tremaining: 47.9s\n",
      "153:\tlearn: 0.1871798\ttotal: 7m 14s\tremaining: 45.1s\n",
      "154:\tlearn: 0.1871204\ttotal: 7m 16s\tremaining: 42.3s\n",
      "155:\tlearn: 0.1870623\ttotal: 7m 19s\tremaining: 39.4s\n",
      "156:\tlearn: 0.1870099\ttotal: 7m 22s\tremaining: 36.6s\n",
      "157:\tlearn: 0.1869209\ttotal: 7m 24s\tremaining: 33.8s\n",
      "158:\tlearn: 0.1868699\ttotal: 7m 27s\tremaining: 31s\n",
      "159:\tlearn: 0.1868156\ttotal: 7m 30s\tremaining: 28.2s\n",
      "160:\tlearn: 0.1867818\ttotal: 7m 33s\tremaining: 25.4s\n",
      "161:\tlearn: 0.1867121\ttotal: 7m 36s\tremaining: 22.6s\n",
      "162:\tlearn: 0.1866829\ttotal: 7m 39s\tremaining: 19.8s\n",
      "163:\tlearn: 0.1865826\ttotal: 7m 42s\tremaining: 16.9s\n",
      "164:\tlearn: 0.1865181\ttotal: 7m 45s\tremaining: 14.1s\n",
      "165:\tlearn: 0.1864127\ttotal: 7m 48s\tremaining: 11.3s\n",
      "166:\tlearn: 0.1863569\ttotal: 7m 50s\tremaining: 8.46s\n",
      "167:\tlearn: 0.1863056\ttotal: 7m 53s\tremaining: 5.64s\n",
      "168:\tlearn: 0.1862756\ttotal: 7m 56s\tremaining: 2.82s\n",
      "169:\tlearn: 0.1862664\ttotal: 7m 58s\tremaining: 0us\n"
     ]
    },
    {
     "data": {
      "text/plain": [
       "<catboost.core.CatBoostClassifier at 0x1ee0b5e1b50>"
      ]
     },
     "execution_count": 36,
     "metadata": {},
     "output_type": "execute_result"
    }
   ],
   "source": [
    "CatBoost = CatBoostClassifier(\n",
    "    n_estimators=170,\n",
    "    cat_features=cat_features,\n",
    "    auto_class_weights='Balanced',\n",
    "    verbose=True\n",
    ")\n",
    "\n",
    "CatBoost.fit(X_train, y_train)"
   ]
  },
  {
   "cell_type": "code",
   "execution_count": 40,
   "metadata": {
    "scrolled": true
   },
   "outputs": [
    {
     "name": "stdout",
     "output_type": "stream",
     "text": [
      "Score 0.9192870174111833\n"
     ]
    }
   ],
   "source": [
    "pred = CatBoost.predict(X_test)\n",
    "\n",
    "print(\"Score\", recall_score(y_test, pred, average=\"macro\"))"
   ]
  },
  {
   "cell_type": "code",
   "execution_count": 41,
   "metadata": {
    "scrolled": true
   },
   "outputs": [
    {
     "data": {
      "text/html": [
       "<div>\n",
       "<style scoped>\n",
       "    .dataframe tbody tr th:only-of-type {\n",
       "        vertical-align: middle;\n",
       "    }\n",
       "\n",
       "    .dataframe tbody tr th {\n",
       "        vertical-align: top;\n",
       "    }\n",
       "\n",
       "    .dataframe thead th {\n",
       "        text-align: right;\n",
       "    }\n",
       "</style>\n",
       "<table border=\"1\" class=\"dataframe\">\n",
       "  <thead>\n",
       "    <tr style=\"text-align: right;\">\n",
       "      <th></th>\n",
       "      <th>Feature Id</th>\n",
       "      <th>Importances</th>\n",
       "    </tr>\n",
       "  </thead>\n",
       "  <tbody>\n",
       "    <tr>\n",
       "      <th>0</th>\n",
       "      <td>total_qty_over_index_and_type</td>\n",
       "      <td>21.257344</td>\n",
       "    </tr>\n",
       "    <tr>\n",
       "      <th>1</th>\n",
       "      <td>total_qty_oper_login_1</td>\n",
       "      <td>13.940197</td>\n",
       "    </tr>\n",
       "    <tr>\n",
       "      <th>2</th>\n",
       "      <td>count_duplicates</td>\n",
       "      <td>12.719985</td>\n",
       "    </tr>\n",
       "    <tr>\n",
       "      <th>3</th>\n",
       "      <td>dist_qty_oper_login_1</td>\n",
       "      <td>8.277198</td>\n",
       "    </tr>\n",
       "    <tr>\n",
       "      <th>4</th>\n",
       "      <td>total_qty_oper_login_0</td>\n",
       "      <td>8.141154</td>\n",
       "    </tr>\n",
       "    <tr>\n",
       "      <th>5</th>\n",
       "      <td>type</td>\n",
       "      <td>7.362892</td>\n",
       "    </tr>\n",
       "    <tr>\n",
       "      <th>6</th>\n",
       "      <td>index_oper</td>\n",
       "      <td>6.073710</td>\n",
       "    </tr>\n",
       "    <tr>\n",
       "      <th>7</th>\n",
       "      <td>transport_pay</td>\n",
       "      <td>4.482207</td>\n",
       "    </tr>\n",
       "    <tr>\n",
       "      <th>8</th>\n",
       "      <td>mailctg</td>\n",
       "      <td>4.025349</td>\n",
       "    </tr>\n",
       "    <tr>\n",
       "      <th>9</th>\n",
       "      <td>total_qty_over_index</td>\n",
       "      <td>3.249103</td>\n",
       "    </tr>\n",
       "    <tr>\n",
       "      <th>10</th>\n",
       "      <td>price_mfi</td>\n",
       "      <td>2.415513</td>\n",
       "    </tr>\n",
       "    <tr>\n",
       "      <th>11</th>\n",
       "      <td>is_wrong_phone_number</td>\n",
       "      <td>1.853930</td>\n",
       "    </tr>\n",
       "    <tr>\n",
       "      <th>12</th>\n",
       "      <td>weight_mfi</td>\n",
       "      <td>1.460673</td>\n",
       "    </tr>\n",
       "    <tr>\n",
       "      <th>13</th>\n",
       "      <td>count_mfi</td>\n",
       "      <td>1.165620</td>\n",
       "    </tr>\n",
       "    <tr>\n",
       "      <th>14</th>\n",
       "      <td>weight</td>\n",
       "      <td>1.123314</td>\n",
       "    </tr>\n",
       "    <tr>\n",
       "      <th>15</th>\n",
       "      <td>class</td>\n",
       "      <td>1.037136</td>\n",
       "    </tr>\n",
       "    <tr>\n",
       "      <th>16</th>\n",
       "      <td>is_wrong_rcpn_name</td>\n",
       "      <td>0.477098</td>\n",
       "    </tr>\n",
       "    <tr>\n",
       "      <th>17</th>\n",
       "      <td>is_in_yandex</td>\n",
       "      <td>0.273537</td>\n",
       "    </tr>\n",
       "    <tr>\n",
       "      <th>18</th>\n",
       "      <td>priority</td>\n",
       "      <td>0.186150</td>\n",
       "    </tr>\n",
       "    <tr>\n",
       "      <th>19</th>\n",
       "      <td>directctg</td>\n",
       "      <td>0.185359</td>\n",
       "    </tr>\n",
       "    <tr>\n",
       "      <th>20</th>\n",
       "      <td>name_has_digits</td>\n",
       "      <td>0.142916</td>\n",
       "    </tr>\n",
       "    <tr>\n",
       "      <th>21</th>\n",
       "      <td>is_return</td>\n",
       "      <td>0.075224</td>\n",
       "    </tr>\n",
       "    <tr>\n",
       "      <th>22</th>\n",
       "      <td>is_wrong_sndr_name</td>\n",
       "      <td>0.046007</td>\n",
       "    </tr>\n",
       "    <tr>\n",
       "      <th>23</th>\n",
       "      <td>is_wrong_address</td>\n",
       "      <td>0.021376</td>\n",
       "    </tr>\n",
       "    <tr>\n",
       "      <th>24</th>\n",
       "      <td>is_privatecategory</td>\n",
       "      <td>0.003481</td>\n",
       "    </tr>\n",
       "    <tr>\n",
       "      <th>25</th>\n",
       "      <td>mailtype</td>\n",
       "      <td>0.003349</td>\n",
       "    </tr>\n",
       "    <tr>\n",
       "      <th>26</th>\n",
       "      <td>postmark</td>\n",
       "      <td>0.000180</td>\n",
       "    </tr>\n",
       "    <tr>\n",
       "      <th>27</th>\n",
       "      <td>mailrank</td>\n",
       "      <td>0.000000</td>\n",
       "    </tr>\n",
       "  </tbody>\n",
       "</table>\n",
       "</div>"
      ],
      "text/plain": [
       "                       Feature Id  Importances\n",
       "0   total_qty_over_index_and_type    21.257344\n",
       "1          total_qty_oper_login_1    13.940197\n",
       "2                count_duplicates    12.719985\n",
       "3           dist_qty_oper_login_1     8.277198\n",
       "4          total_qty_oper_login_0     8.141154\n",
       "5                            type     7.362892\n",
       "6                      index_oper     6.073710\n",
       "7                   transport_pay     4.482207\n",
       "8                         mailctg     4.025349\n",
       "9            total_qty_over_index     3.249103\n",
       "10                      price_mfi     2.415513\n",
       "11          is_wrong_phone_number     1.853930\n",
       "12                     weight_mfi     1.460673\n",
       "13                      count_mfi     1.165620\n",
       "14                         weight     1.123314\n",
       "15                          class     1.037136\n",
       "16             is_wrong_rcpn_name     0.477098\n",
       "17                   is_in_yandex     0.273537\n",
       "18                       priority     0.186150\n",
       "19                      directctg     0.185359\n",
       "20                name_has_digits     0.142916\n",
       "21                      is_return     0.075224\n",
       "22             is_wrong_sndr_name     0.046007\n",
       "23               is_wrong_address     0.021376\n",
       "24             is_privatecategory     0.003481\n",
       "25                       mailtype     0.003349\n",
       "26                       postmark     0.000180\n",
       "27                       mailrank     0.000000"
      ]
     },
     "execution_count": 41,
     "metadata": {},
     "output_type": "execute_result"
    }
   ],
   "source": [
    "CatBoost.get_feature_importance(prettified=True)"
   ]
  },
  {
   "cell_type": "markdown",
   "metadata": {},
   "source": [
    "### LGBM"
   ]
  },
  {
   "cell_type": "code",
   "execution_count": 37,
   "metadata": {
    "scrolled": false
   },
   "outputs": [
    {
     "data": {
      "text/html": [
       "<style>#sk-container-id-3 {color: black;background-color: white;}#sk-container-id-3 pre{padding: 0;}#sk-container-id-3 div.sk-toggleable {background-color: white;}#sk-container-id-3 label.sk-toggleable__label {cursor: pointer;display: block;width: 100%;margin-bottom: 0;padding: 0.3em;box-sizing: border-box;text-align: center;}#sk-container-id-3 label.sk-toggleable__label-arrow:before {content: \"▸\";float: left;margin-right: 0.25em;color: #696969;}#sk-container-id-3 label.sk-toggleable__label-arrow:hover:before {color: black;}#sk-container-id-3 div.sk-estimator:hover label.sk-toggleable__label-arrow:before {color: black;}#sk-container-id-3 div.sk-toggleable__content {max-height: 0;max-width: 0;overflow: hidden;text-align: left;background-color: #f0f8ff;}#sk-container-id-3 div.sk-toggleable__content pre {margin: 0.2em;color: black;border-radius: 0.25em;background-color: #f0f8ff;}#sk-container-id-3 input.sk-toggleable__control:checked~div.sk-toggleable__content {max-height: 200px;max-width: 100%;overflow: auto;}#sk-container-id-3 input.sk-toggleable__control:checked~label.sk-toggleable__label-arrow:before {content: \"▾\";}#sk-container-id-3 div.sk-estimator input.sk-toggleable__control:checked~label.sk-toggleable__label {background-color: #d4ebff;}#sk-container-id-3 div.sk-label input.sk-toggleable__control:checked~label.sk-toggleable__label {background-color: #d4ebff;}#sk-container-id-3 input.sk-hidden--visually {border: 0;clip: rect(1px 1px 1px 1px);clip: rect(1px, 1px, 1px, 1px);height: 1px;margin: -1px;overflow: hidden;padding: 0;position: absolute;width: 1px;}#sk-container-id-3 div.sk-estimator {font-family: monospace;background-color: #f0f8ff;border: 1px dotted black;border-radius: 0.25em;box-sizing: border-box;margin-bottom: 0.5em;}#sk-container-id-3 div.sk-estimator:hover {background-color: #d4ebff;}#sk-container-id-3 div.sk-parallel-item::after {content: \"\";width: 100%;border-bottom: 1px solid gray;flex-grow: 1;}#sk-container-id-3 div.sk-label:hover label.sk-toggleable__label {background-color: #d4ebff;}#sk-container-id-3 div.sk-serial::before {content: \"\";position: absolute;border-left: 1px solid gray;box-sizing: border-box;top: 0;bottom: 0;left: 50%;z-index: 0;}#sk-container-id-3 div.sk-serial {display: flex;flex-direction: column;align-items: center;background-color: white;padding-right: 0.2em;padding-left: 0.2em;position: relative;}#sk-container-id-3 div.sk-item {position: relative;z-index: 1;}#sk-container-id-3 div.sk-parallel {display: flex;align-items: stretch;justify-content: center;background-color: white;position: relative;}#sk-container-id-3 div.sk-item::before, #sk-container-id-3 div.sk-parallel-item::before {content: \"\";position: absolute;border-left: 1px solid gray;box-sizing: border-box;top: 0;bottom: 0;left: 50%;z-index: -1;}#sk-container-id-3 div.sk-parallel-item {display: flex;flex-direction: column;z-index: 1;position: relative;background-color: white;}#sk-container-id-3 div.sk-parallel-item:first-child::after {align-self: flex-end;width: 50%;}#sk-container-id-3 div.sk-parallel-item:last-child::after {align-self: flex-start;width: 50%;}#sk-container-id-3 div.sk-parallel-item:only-child::after {width: 0;}#sk-container-id-3 div.sk-dashed-wrapped {border: 1px dashed gray;margin: 0 0.4em 0.5em 0.4em;box-sizing: border-box;padding-bottom: 0.4em;background-color: white;}#sk-container-id-3 div.sk-label label {font-family: monospace;font-weight: bold;display: inline-block;line-height: 1.2em;}#sk-container-id-3 div.sk-label-container {text-align: center;}#sk-container-id-3 div.sk-container {/* jupyter's `normalize.less` sets `[hidden] { display: none; }` but bootstrap.min.css set `[hidden] { display: none !important; }` so we also need the `!important` here to be able to override the default hidden behavior on the sphinx rendered scikit-learn.org. See: https://github.com/scikit-learn/scikit-learn/issues/21755 */display: inline-block !important;position: relative;}#sk-container-id-3 div.sk-text-repr-fallback {display: none;}</style><div id=\"sk-container-id-3\" class=\"sk-top-container\"><div class=\"sk-text-repr-fallback\"><pre>LGBMClassifier(class_weight=&#x27;balanced&#x27;)</pre><b>In a Jupyter environment, please rerun this cell to show the HTML representation or trust the notebook. <br />On GitHub, the HTML representation is unable to render, please try loading this page with nbviewer.org.</b></div><div class=\"sk-container\" hidden><div class=\"sk-item\"><div class=\"sk-estimator sk-toggleable\"><input class=\"sk-toggleable__control sk-hidden--visually\" id=\"sk-estimator-id-3\" type=\"checkbox\" checked><label for=\"sk-estimator-id-3\" class=\"sk-toggleable__label sk-toggleable__label-arrow\">LGBMClassifier</label><div class=\"sk-toggleable__content\"><pre>LGBMClassifier(class_weight=&#x27;balanced&#x27;)</pre></div></div></div></div></div>"
      ],
      "text/plain": [
       "LGBMClassifier(class_weight='balanced')"
      ]
     },
     "execution_count": 37,
     "metadata": {},
     "output_type": "execute_result"
    }
   ],
   "source": [
    "LGBM = LGBMClassifier(\n",
    "    class_weight='balanced',\n",
    ")\n",
    "\n",
    "LGBM.fit(X_train, y_train)"
   ]
  },
  {
   "cell_type": "code",
   "execution_count": 42,
   "metadata": {
    "scrolled": true
   },
   "outputs": [
    {
     "name": "stdout",
     "output_type": "stream",
     "text": [
      "Score 0.9183696828201178\n"
     ]
    }
   ],
   "source": [
    "pred = LGBM.predict(X_test)\n",
    "\n",
    "print(\"Score\", recall_score(y_test, pred, average=\"macro\"))"
   ]
  },
  {
   "cell_type": "code",
   "execution_count": 43,
   "metadata": {
    "scrolled": true
   },
   "outputs": [
    {
     "name": "stdout",
     "output_type": "stream",
     "text": [
      "count_duplicates                        414.000\n",
      "dist_qty_oper_login_1                   303.000\n",
      "index_oper                              263.000\n",
      "total_qty_oper_login_0                  253.000\n",
      "price_mfi                               207.000\n",
      "type                                    189.000\n",
      "total_qty_over_index                    182.000\n",
      "transport_pay                           174.000\n",
      "weight                                  167.000\n",
      "weight_mfi                              166.000\n",
      "total_qty_oper_login_1                  133.000\n",
      "mailctg                                 127.000\n",
      "is_wrong_phone_number                   88.000\n",
      "total_qty_over_index_and_type           64.000\n",
      "count_mfi                               57.000\n",
      "class                                   48.000\n",
      "is_wrong_rcpn_name                      47.000\n",
      "is_in_yandex                            29.000\n",
      "directctg                               18.000\n",
      "is_wrong_sndr_name                      15.000\n",
      "priority                                14.000\n",
      "mailtype                                14.000\n",
      "name_has_digits                         11.000\n",
      "is_return                               9.000\n",
      "is_wrong_address                        8.000\n",
      "is_privatecategory                      0.000\n",
      "mailrank                                0.000\n",
      "postmark                                0.000\n"
     ]
    }
   ],
   "source": [
    "for imp, name in sorted(zip(LGBM.feature_importances_, LGBM.feature_name_), key=lambda x: -x[0]):\n",
    "    print(f'{name:40}{imp:.3f}')"
   ]
  },
  {
   "cell_type": "markdown",
   "metadata": {},
   "source": [
    "### Stacking"
   ]
  },
  {
   "cell_type": "code",
   "execution_count": 44,
   "metadata": {},
   "outputs": [],
   "source": [
    "clf = StackingClassifier(\n",
    "    estimators=[\n",
    "        ('RandomForest', RandomForest),\n",
    "        ('CatBoost', CatBoost),\n",
    "        ('LGBM', LGBM),\n",
    "    ],\n",
    "    final_estimator=LogisticRegression(class_weight='balanced'),\n",
    "    cv='prefit'\n",
    ")"
   ]
  },
  {
   "cell_type": "code",
   "execution_count": 45,
   "metadata": {
    "colab": {
     "base_uri": "https://localhost:8080/"
    },
    "id": "bc8JAH4yf7Bs",
    "outputId": "6cf27cb3-b919-402d-cae3-f1fabc8ecc10",
    "scrolled": false
   },
   "outputs": [
    {
     "name": "stderr",
     "output_type": "stream",
     "text": [
      "[Parallel(n_jobs=4)]: Using backend ThreadingBackend with 4 concurrent workers.\n",
      "[Parallel(n_jobs=4)]: Done  33 tasks      | elapsed:    0.6s\n",
      "[Parallel(n_jobs=4)]: Done 100 out of 100 | elapsed:    2.2s finished\n"
     ]
    },
    {
     "data": {
      "text/html": [
       "<style>#sk-container-id-4 {color: black;background-color: white;}#sk-container-id-4 pre{padding: 0;}#sk-container-id-4 div.sk-toggleable {background-color: white;}#sk-container-id-4 label.sk-toggleable__label {cursor: pointer;display: block;width: 100%;margin-bottom: 0;padding: 0.3em;box-sizing: border-box;text-align: center;}#sk-container-id-4 label.sk-toggleable__label-arrow:before {content: \"▸\";float: left;margin-right: 0.25em;color: #696969;}#sk-container-id-4 label.sk-toggleable__label-arrow:hover:before {color: black;}#sk-container-id-4 div.sk-estimator:hover label.sk-toggleable__label-arrow:before {color: black;}#sk-container-id-4 div.sk-toggleable__content {max-height: 0;max-width: 0;overflow: hidden;text-align: left;background-color: #f0f8ff;}#sk-container-id-4 div.sk-toggleable__content pre {margin: 0.2em;color: black;border-radius: 0.25em;background-color: #f0f8ff;}#sk-container-id-4 input.sk-toggleable__control:checked~div.sk-toggleable__content {max-height: 200px;max-width: 100%;overflow: auto;}#sk-container-id-4 input.sk-toggleable__control:checked~label.sk-toggleable__label-arrow:before {content: \"▾\";}#sk-container-id-4 div.sk-estimator input.sk-toggleable__control:checked~label.sk-toggleable__label {background-color: #d4ebff;}#sk-container-id-4 div.sk-label input.sk-toggleable__control:checked~label.sk-toggleable__label {background-color: #d4ebff;}#sk-container-id-4 input.sk-hidden--visually {border: 0;clip: rect(1px 1px 1px 1px);clip: rect(1px, 1px, 1px, 1px);height: 1px;margin: -1px;overflow: hidden;padding: 0;position: absolute;width: 1px;}#sk-container-id-4 div.sk-estimator {font-family: monospace;background-color: #f0f8ff;border: 1px dotted black;border-radius: 0.25em;box-sizing: border-box;margin-bottom: 0.5em;}#sk-container-id-4 div.sk-estimator:hover {background-color: #d4ebff;}#sk-container-id-4 div.sk-parallel-item::after {content: \"\";width: 100%;border-bottom: 1px solid gray;flex-grow: 1;}#sk-container-id-4 div.sk-label:hover label.sk-toggleable__label {background-color: #d4ebff;}#sk-container-id-4 div.sk-serial::before {content: \"\";position: absolute;border-left: 1px solid gray;box-sizing: border-box;top: 0;bottom: 0;left: 50%;z-index: 0;}#sk-container-id-4 div.sk-serial {display: flex;flex-direction: column;align-items: center;background-color: white;padding-right: 0.2em;padding-left: 0.2em;position: relative;}#sk-container-id-4 div.sk-item {position: relative;z-index: 1;}#sk-container-id-4 div.sk-parallel {display: flex;align-items: stretch;justify-content: center;background-color: white;position: relative;}#sk-container-id-4 div.sk-item::before, #sk-container-id-4 div.sk-parallel-item::before {content: \"\";position: absolute;border-left: 1px solid gray;box-sizing: border-box;top: 0;bottom: 0;left: 50%;z-index: -1;}#sk-container-id-4 div.sk-parallel-item {display: flex;flex-direction: column;z-index: 1;position: relative;background-color: white;}#sk-container-id-4 div.sk-parallel-item:first-child::after {align-self: flex-end;width: 50%;}#sk-container-id-4 div.sk-parallel-item:last-child::after {align-self: flex-start;width: 50%;}#sk-container-id-4 div.sk-parallel-item:only-child::after {width: 0;}#sk-container-id-4 div.sk-dashed-wrapped {border: 1px dashed gray;margin: 0 0.4em 0.5em 0.4em;box-sizing: border-box;padding-bottom: 0.4em;background-color: white;}#sk-container-id-4 div.sk-label label {font-family: monospace;font-weight: bold;display: inline-block;line-height: 1.2em;}#sk-container-id-4 div.sk-label-container {text-align: center;}#sk-container-id-4 div.sk-container {/* jupyter's `normalize.less` sets `[hidden] { display: none; }` but bootstrap.min.css set `[hidden] { display: none !important; }` so we also need the `!important` here to be able to override the default hidden behavior on the sphinx rendered scikit-learn.org. See: https://github.com/scikit-learn/scikit-learn/issues/21755 */display: inline-block !important;position: relative;}#sk-container-id-4 div.sk-text-repr-fallback {display: none;}</style><div id=\"sk-container-id-4\" class=\"sk-top-container\"><div class=\"sk-text-repr-fallback\"><pre>StackingClassifier(cv=&#x27;prefit&#x27;,\n",
       "                   estimators=[(&#x27;RandomForest&#x27;,\n",
       "                                RandomForestClassifier(class_weight=&#x27;balanced&#x27;,\n",
       "                                                       max_depth=12,\n",
       "                                                       max_features=0.5,\n",
       "                                                       n_jobs=4, verbose=2)),\n",
       "                               (&#x27;CatBoost&#x27;,\n",
       "                                &lt;catboost.core.CatBoostClassifier object at 0x000001EE0B5E1B50&gt;),\n",
       "                               (&#x27;LGBM&#x27;,\n",
       "                                LGBMClassifier(class_weight=&#x27;balanced&#x27;))],\n",
       "                   final_estimator=LogisticRegression(class_weight=&#x27;balanced&#x27;))</pre><b>In a Jupyter environment, please rerun this cell to show the HTML representation or trust the notebook. <br />On GitHub, the HTML representation is unable to render, please try loading this page with nbviewer.org.</b></div><div class=\"sk-container\" hidden><div class=\"sk-item sk-dashed-wrapped\"><div class=\"sk-label-container\"><div class=\"sk-label sk-toggleable\"><input class=\"sk-toggleable__control sk-hidden--visually\" id=\"sk-estimator-id-4\" type=\"checkbox\" ><label for=\"sk-estimator-id-4\" class=\"sk-toggleable__label sk-toggleable__label-arrow\">StackingClassifier</label><div class=\"sk-toggleable__content\"><pre>StackingClassifier(cv=&#x27;prefit&#x27;,\n",
       "                   estimators=[(&#x27;RandomForest&#x27;,\n",
       "                                RandomForestClassifier(class_weight=&#x27;balanced&#x27;,\n",
       "                                                       max_depth=12,\n",
       "                                                       max_features=0.5,\n",
       "                                                       n_jobs=4, verbose=2)),\n",
       "                               (&#x27;CatBoost&#x27;,\n",
       "                                &lt;catboost.core.CatBoostClassifier object at 0x000001EE0B5E1B50&gt;),\n",
       "                               (&#x27;LGBM&#x27;,\n",
       "                                LGBMClassifier(class_weight=&#x27;balanced&#x27;))],\n",
       "                   final_estimator=LogisticRegression(class_weight=&#x27;balanced&#x27;))</pre></div></div></div><div class=\"sk-serial\"><div class=\"sk-item\"><div class=\"sk-parallel\"><div class=\"sk-parallel-item\"><div class=\"sk-item\"><div class=\"sk-label-container\"><div class=\"sk-label sk-toggleable\"><label>RandomForest</label></div></div><div class=\"sk-serial\"><div class=\"sk-item\"><div class=\"sk-estimator sk-toggleable\"><input class=\"sk-toggleable__control sk-hidden--visually\" id=\"sk-estimator-id-5\" type=\"checkbox\" ><label for=\"sk-estimator-id-5\" class=\"sk-toggleable__label sk-toggleable__label-arrow\">RandomForestClassifier</label><div class=\"sk-toggleable__content\"><pre>RandomForestClassifier(class_weight=&#x27;balanced&#x27;, max_depth=12, max_features=0.5,\n",
       "                       n_jobs=4, verbose=2)</pre></div></div></div></div></div></div><div class=\"sk-parallel-item\"><div class=\"sk-item\"><div class=\"sk-label-container\"><div class=\"sk-label sk-toggleable\"><label>CatBoost</label></div></div><div class=\"sk-serial\"><div class=\"sk-item\"><div class=\"sk-estimator sk-toggleable\"><input class=\"sk-toggleable__control sk-hidden--visually\" id=\"sk-estimator-id-6\" type=\"checkbox\" ><label for=\"sk-estimator-id-6\" class=\"sk-toggleable__label sk-toggleable__label-arrow\">CatBoostClassifier</label><div class=\"sk-toggleable__content\"><pre>&lt;catboost.core.CatBoostClassifier object at 0x000001EE0B5E1B50&gt;</pre></div></div></div></div></div></div><div class=\"sk-parallel-item\"><div class=\"sk-item\"><div class=\"sk-label-container\"><div class=\"sk-label sk-toggleable\"><label>LGBM</label></div></div><div class=\"sk-serial\"><div class=\"sk-item\"><div class=\"sk-estimator sk-toggleable\"><input class=\"sk-toggleable__control sk-hidden--visually\" id=\"sk-estimator-id-7\" type=\"checkbox\" ><label for=\"sk-estimator-id-7\" class=\"sk-toggleable__label sk-toggleable__label-arrow\">LGBMClassifier</label><div class=\"sk-toggleable__content\"><pre>LGBMClassifier(class_weight=&#x27;balanced&#x27;)</pre></div></div></div></div></div></div></div></div><div class=\"sk-item\"><div class=\"sk-parallel\"><div class=\"sk-parallel-item\"><div class=\"sk-item\"><div class=\"sk-label-container\"><div class=\"sk-label sk-toggleable\"><label>final_estimator</label></div></div><div class=\"sk-serial\"><div class=\"sk-item\"><div class=\"sk-estimator sk-toggleable\"><input class=\"sk-toggleable__control sk-hidden--visually\" id=\"sk-estimator-id-8\" type=\"checkbox\" ><label for=\"sk-estimator-id-8\" class=\"sk-toggleable__label sk-toggleable__label-arrow\">LogisticRegression</label><div class=\"sk-toggleable__content\"><pre>LogisticRegression(class_weight=&#x27;balanced&#x27;)</pre></div></div></div></div></div></div></div></div></div></div></div></div>"
      ],
      "text/plain": [
       "StackingClassifier(cv='prefit',\n",
       "                   estimators=[('RandomForest',\n",
       "                                RandomForestClassifier(class_weight='balanced',\n",
       "                                                       max_depth=12,\n",
       "                                                       max_features=0.5,\n",
       "                                                       n_jobs=4, verbose=2)),\n",
       "                               ('CatBoost',\n",
       "                                <catboost.core.CatBoostClassifier object at 0x000001EE0B5E1B50>),\n",
       "                               ('LGBM',\n",
       "                                LGBMClassifier(class_weight='balanced'))],\n",
       "                   final_estimator=LogisticRegression(class_weight='balanced'))"
      ]
     },
     "execution_count": 45,
     "metadata": {},
     "output_type": "execute_result"
    }
   ],
   "source": [
    "clf.fit(X_test, y_test)"
   ]
  },
  {
   "cell_type": "code",
   "execution_count": 46,
   "metadata": {},
   "outputs": [
    {
     "data": {
      "text/plain": [
       "array([[2.76310325, 3.14001469, 1.67062365]])"
      ]
     },
     "execution_count": 46,
     "metadata": {},
     "output_type": "execute_result"
    }
   ],
   "source": [
    "clf.final_estimator_.coef_"
   ]
  },
  {
   "cell_type": "markdown",
   "metadata": {
    "id": "DrF2LeJIBNYN"
   },
   "source": [
    "## Оценка точности"
   ]
  },
  {
   "cell_type": "code",
   "execution_count": 22,
   "metadata": {},
   "outputs": [
    {
     "name": "stderr",
     "output_type": "stream",
     "text": [
      "[Parallel(n_jobs=4)]: Using backend ThreadingBackend with 4 concurrent workers.\n",
      "[Parallel(n_jobs=4)]: Done  10 out of  10 | elapsed:    3.0s finished\n"
     ]
    },
    {
     "name": "stdout",
     "output_type": "stream",
     "text": [
      "TRAIN score 0.930746304769984\n"
     ]
    }
   ],
   "source": [
    "pred = clf.predict(X_train)\n",
    "\n",
    "print(\"TRAIN score\", recall_score(y_train, pred, average=\"macro\"))"
   ]
  },
  {
   "cell_type": "code",
   "execution_count": 47,
   "metadata": {
    "id": "5Ph7vcoxBNYO",
    "scrolled": false
   },
   "outputs": [
    {
     "name": "stderr",
     "output_type": "stream",
     "text": [
      "[Parallel(n_jobs=4)]: Using backend ThreadingBackend with 4 concurrent workers.\n",
      "[Parallel(n_jobs=4)]: Done  33 tasks      | elapsed:    0.7s\n",
      "[Parallel(n_jobs=4)]: Done 100 out of 100 | elapsed:    2.2s finished\n"
     ]
    },
    {
     "name": "stdout",
     "output_type": "stream",
     "text": [
      "TEST score 0.9198558567045984\n"
     ]
    }
   ],
   "source": [
    "pred = clf.predict(X_test)\n",
    "\n",
    "print(\"TEST score\", recall_score(y_test, pred, average=\"macro\"))"
   ]
  },
  {
   "cell_type": "markdown",
   "metadata": {},
   "source": [
    "## Посылка в систему"
   ]
  },
  {
   "cell_type": "code",
   "execution_count": 73,
   "metadata": {},
   "outputs": [],
   "source": [
    "thr = 0.055"
   ]
  },
  {
   "cell_type": "code",
   "execution_count": 74,
   "metadata": {
    "scrolled": true
   },
   "outputs": [],
   "source": [
    "# pred_proba = clf.predict_proba(df_test)[:, 1]\n",
    "pred = (pred_proba >= thr).astype(int)"
   ]
  },
  {
   "cell_type": "code",
   "execution_count": 75,
   "metadata": {},
   "outputs": [
    {
     "data": {
      "text/plain": [
       "0.2213145"
      ]
     },
     "execution_count": 75,
     "metadata": {},
     "output_type": "execute_result"
    }
   ],
   "source": [
    "pred.mean()"
   ]
  },
  {
   "cell_type": "code",
   "execution_count": 76,
   "metadata": {
    "scrolled": false
   },
   "outputs": [
    {
     "name": "stderr",
     "output_type": "stream",
     "text": [
      "<ipython-input-76-cdb9b488abee>:1: SettingWithCopyWarning: \n",
      "A value is trying to be set on a copy of a slice from a DataFrame.\n",
      "Try using .loc[row_indexer,col_indexer] = value instead\n",
      "\n",
      "See the caveats in the documentation: https://pandas.pydata.org/pandas-docs/stable/user_guide/indexing.html#returning-a-view-versus-a-copy\n",
      "  solution['label'] = pred\n"
     ]
    }
   ],
   "source": [
    "solution['label'] = pred\n",
    "\n",
    "solution.to_csv('solutions/the_best_solution.csv', index=False, lineterminator='\\n')"
   ]
  }
 ],
 "metadata": {
  "colab": {
   "provenance": []
  },
  "kernelspec": {
   "display_name": "Python 3 (ipykernel)",
   "language": "python",
   "name": "python3"
  },
  "language_info": {
   "codemirror_mode": {
    "name": "ipython",
    "version": 3
   },
   "file_extension": ".py",
   "mimetype": "text/x-python",
   "name": "python",
   "nbconvert_exporter": "python",
   "pygments_lexer": "ipython3",
   "version": "3.10.8"
  }
 },
 "nbformat": 4,
 "nbformat_minor": 1
}
